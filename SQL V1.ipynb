{
 "cells": [
  {
   "cell_type": "code",
   "execution_count": 6,
   "id": "79e1f65b",
   "metadata": {},
   "outputs": [],
   "source": [
    "\n",
    "import pandas as pd\n",
    "import numpy as np\n",
    "import pymysql\n"
   ]
  },
  {
   "cell_type": "code",
   "execution_count": 37,
   "id": "5325638f",
   "metadata": {},
   "outputs": [
    {
     "name": "stdout",
     "output_type": "stream",
     "text": [
      "Connection Successful!\n"
     ]
    }
   ],
   "source": [
    " #importing the library\n",
    "\n",
    "#Connecting to MySQL database using pymysql\n",
    "connection = pymysql.connect(host='localhost', #host name\n",
    "                             user='root', #username\n",
    "                             password='Assie@225', #password\n",
    "                             database='SUPPLYCHAINDB') #database name\n",
    "\n",
    "#Checking if the connection is established\n",
    "if connection:\n",
    "    print(\"Connection Successful!\")"
   ]
  },
  {
   "cell_type": "code",
   "execution_count": 49,
   "id": "c1a3140b",
   "metadata": {},
   "outputs": [],
   "source": [
    "my_cursor = connection.cursor()"
   ]
  },
  {
   "cell_type": "code",
   "execution_count": 16,
   "id": "2b52b1b1",
   "metadata": {},
   "outputs": [
    {
     "data": {
      "text/plain": [
       "20"
      ]
     },
     "execution_count": 16,
     "metadata": {},
     "output_type": "execute_result"
    }
   ],
   "source": [
    "my_cursor.execute('SELECT *FROM phone')"
   ]
  },
  {
   "cell_type": "code",
   "execution_count": 17,
   "id": "f386faec",
   "metadata": {},
   "outputs": [
    {
     "name": "stdout",
     "output_type": "stream",
     "text": [
      "(100, 'Iphone12', 'Iphone', 25000)\n",
      "(101, 'Iphone 12 Pro', 'Iphone', 25000)\n",
      "(102, 'vivo v20', 'Vivo', 27000)\n",
      "(103, 'Samsung S17', 'Samsung', 56000)\n",
      "(104, 'Oppo A12', 'Oppo', 29000)\n",
      "(105, 'Airtel F1', 'Airtel', 28000)\n",
      "(106, 'Nokia Q2', 'Nokia', 27000)\n",
      "(107, 'Alcatel G4', 'Alcatel', 28000)\n",
      "(108, 'Teckno P1', 'Teckno', 66000)\n",
      "(109, 'Iphone 13', 'Iphone', 77000)\n",
      "(110, 'Samsung S20', 'Samsung', 67000)\n",
      "(1011, 'vivo v20', 'Vivo', 27000)\n",
      "(1012, 'Samsung S17', 'Samsung', 56000)\n",
      "(1013, 'Oppo A12', 'Oppo', 29000)\n",
      "(1014, 'Airtel F1', 'Airtel', 28000)\n",
      "(1015, 'Nokia Q2', 'Nokia', 27000)\n",
      "(1016, 'Alcatel G4', 'Alcatel', 28000)\n",
      "(1017, 'Teckno P1', 'Teckno', 66000)\n",
      "(1018, 'Iphone 13', 'Iphone', 77000)\n",
      "(119, 'Samsung S20', 'Samsung', 67000)\n"
     ]
    }
   ],
   "source": [
    "for x in my_cursor:\n",
    "    print(x)"
   ]
  },
  {
   "cell_type": "code",
   "execution_count": 18,
   "id": "39eee7ac",
   "metadata": {},
   "outputs": [
    {
     "data": {
      "text/plain": [
       "10"
      ]
     },
     "execution_count": 18,
     "metadata": {},
     "output_type": "execute_result"
    }
   ],
   "source": [
    "my_cursor.execute('SHOW DATABASES')"
   ]
  },
  {
   "cell_type": "code",
   "execution_count": 19,
   "id": "9c0ab105",
   "metadata": {},
   "outputs": [
    {
     "name": "stdout",
     "output_type": "stream",
     "text": [
      "('Big_data',)\n",
      "('Book_details',)\n",
      "('SUPPLYCHAINDB',)\n",
      "('database1',)\n",
      "('employees',)\n",
      "('information_schema',)\n",
      "('mysql',)\n",
      "('performance_schema',)\n",
      "('shop_database',)\n",
      "('sys',)\n"
     ]
    }
   ],
   "source": [
    "for x in my_cursor:\n",
    "    print(x)"
   ]
  },
  {
   "cell_type": "code",
   "execution_count": 22,
   "id": "89d2d21d",
   "metadata": {},
   "outputs": [
    {
     "data": {
      "text/plain": [
       "0"
      ]
     },
     "execution_count": 22,
     "metadata": {},
     "output_type": "execute_result"
    }
   ],
   "source": [
    "my_cursor.execute('USE SUPPLYCHAINDB')"
   ]
  },
  {
   "cell_type": "code",
   "execution_count": 40,
   "id": "ac02805b",
   "metadata": {},
   "outputs": [
    {
     "data": {
      "text/plain": [
       "10"
      ]
     },
     "execution_count": 40,
     "metadata": {},
     "output_type": "execute_result"
    }
   ],
   "source": [
    "my_cursor.execute('SELECT *FROM EMPLOYEE')"
   ]
  },
  {
   "cell_type": "code",
   "execution_count": 41,
   "id": "4a53c8cd",
   "metadata": {},
   "outputs": [],
   "source": [
    "arr = []\n",
    "for x in my_cursor:\n",
    "    arr.append(x)\n",
    "    "
   ]
  },
  {
   "cell_type": "code",
   "execution_count": 48,
   "id": "24378ead",
   "metadata": {},
   "outputs": [
    {
     "name": "stdout",
     "output_type": "stream",
     "text": [
      "(123456, 'MADELEINE REYES', datetime.date(1979, 4, 1), '9020 BESSIE COLEMAN', 'NEW HAVEN', 'CONNECTICUT', '06556', datetime.date(2007, 1, 15), None)\n",
      "------------------------------------------------\n",
      "(123457, 'AMYA KINNEY', datetime.date(1981, 3, 16), 'PINE STREET', 'Cambridge', 'MA', '02214', datetime.date(2009, 9, 4), None)\n",
      "------------------------------------------------\n",
      "(123458, 'CATLYN PETERS', datetime.date(1991, 10, 13), '742 ORNAGO AVENUE', 'LEXINTON', 'MA', '02223', datetime.date(2011, 7, 2), None)\n",
      "------------------------------------------------\n",
      "(123459, 'MORIAH NASH', datetime.date(1992, 8, 25), 'SIMMONS STREET', 'WARREN', 'MICHIGAN', '48033', datetime.date(2015, 2, 5), None)\n",
      "------------------------------------------------\n",
      "(123460, 'PATRICK HANSEN', datetime.date(1985, 9, 25), '485 PEASANT STREET', 'COLORADO SPRINGS', 'SPRINGS', '80772', datetime.date(2010, 8, 5), None)\n",
      "------------------------------------------------\n",
      "(123461, 'SHANK BARTON', datetime.date(1982, 5, 14), '614 SHAWMUT AVENUE', 'BOSTON', 'MA', '02118', datetime.date(1998, 2, 14), datetime.date(2016, 5, 3))\n",
      "------------------------------------------------\n",
      "(123462, 'EMILY BRONK', datetime.date(1988, 7, 12), '1712 LOST RIVER RD.', 'NORTH WOODSTOCK', 'NH', '03262', datetime.date(2016, 4, 21), datetime.date(2019, 3, 31))\n",
      "------------------------------------------------\n",
      "(123463, 'ANDY DUFFERHEN', datetime.date(1976, 3, 31), '13 SAMUEL J ROAD', 'ALBUQUERQUE', 'NEW MEXICO', '87105', datetime.date(1995, 1, 11), datetime.date(2013, 3, 16))\n",
      "------------------------------------------------\n",
      "(123464, 'TIMMY CUFFMAN', datetime.date(1999, 6, 23), '851 HARRISON AVENUE', 'BOSTON', 'MA', '02118', datetime.date(2017, 12, 14), None)\n",
      "------------------------------------------------\n",
      "(123465, 'KATHY BLEAK', datetime.date(1992, 2, 27), '801 E WAYNE AVENUE', 'WOOSTER', 'OHIO', '44691', datetime.date(2012, 4, 30), None)\n",
      "------------------------------------------------\n"
     ]
    }
   ],
   "source": [
    "for x in arr:\n",
    "    print(x)\n",
    "    print('--'*24)"
   ]
  },
  {
   "cell_type": "code",
   "execution_count": 50,
   "id": "9dbad2fd",
   "metadata": {},
   "outputs": [
    {
     "data": {
      "text/plain": [
       "9"
      ]
     },
     "execution_count": 50,
     "metadata": {},
     "output_type": "execute_result"
    }
   ],
   "source": [
    "my_cursor.execute('Desc EMPLOYEE')"
   ]
  },
  {
   "cell_type": "code",
   "execution_count": 51,
   "id": "8f7b084d",
   "metadata": {},
   "outputs": [
    {
     "name": "stdout",
     "output_type": "stream",
     "text": [
      "('EMP_ID', 'int', 'NO', 'PRI', None, 'auto_increment')\n",
      "('EMP_NAME', 'varchar(255)', 'NO', '', None, '')\n",
      "('EMP_DOB', 'date', 'YES', '', None, '')\n",
      "('EMP_STREET', 'varchar(255)', 'YES', '', None, '')\n",
      "('EMP_CITY', 'varchar(255)', 'YES', '', None, '')\n",
      "('EMP_STATE', 'varchar(255)', 'YES', '', None, '')\n",
      "('EMP_ZIP', 'varchar(5)', 'YES', '', None, '')\n",
      "('EMP_HIREDATE', 'date', 'YES', '', None, '')\n",
      "('EMP_ENDDATE', 'date', 'YES', '', None, '')\n"
     ]
    }
   ],
   "source": [
    "for x in my_cursor:\n",
    "    print(x)"
   ]
  },
  {
   "cell_type": "code",
   "execution_count": 52,
   "id": "57ce2396",
   "metadata": {},
   "outputs": [],
   "source": [
    "data = pd.DataFrame(columns=['EMP_ID','EMP_NAME','EMP_DOB','EMP_STREET','EMP_CITY','EMP_STATE',\\\n",
    "                            'EMP_ZIP','EMP_HIREDATE','EMP_ENDDATE'],data=arr)"
   ]
  },
  {
   "cell_type": "code",
   "execution_count": 53,
   "id": "cd2189ae",
   "metadata": {},
   "outputs": [
    {
     "data": {
      "text/html": [
       "<div>\n",
       "<style scoped>\n",
       "    .dataframe tbody tr th:only-of-type {\n",
       "        vertical-align: middle;\n",
       "    }\n",
       "\n",
       "    .dataframe tbody tr th {\n",
       "        vertical-align: top;\n",
       "    }\n",
       "\n",
       "    .dataframe thead th {\n",
       "        text-align: right;\n",
       "    }\n",
       "</style>\n",
       "<table border=\"1\" class=\"dataframe\">\n",
       "  <thead>\n",
       "    <tr style=\"text-align: right;\">\n",
       "      <th></th>\n",
       "      <th>EMP_ID</th>\n",
       "      <th>EMP_NAME</th>\n",
       "      <th>EMP_DOB</th>\n",
       "      <th>EMP_STREET</th>\n",
       "      <th>EMP_CITY</th>\n",
       "      <th>EMP_STATE</th>\n",
       "      <th>EMP_ZIP</th>\n",
       "      <th>EMP_HIREDATE</th>\n",
       "      <th>EMP_ENDDATE</th>\n",
       "    </tr>\n",
       "  </thead>\n",
       "  <tbody>\n",
       "    <tr>\n",
       "      <th>0</th>\n",
       "      <td>123456</td>\n",
       "      <td>MADELEINE REYES</td>\n",
       "      <td>1979-04-01</td>\n",
       "      <td>9020 BESSIE COLEMAN</td>\n",
       "      <td>NEW HAVEN</td>\n",
       "      <td>CONNECTICUT</td>\n",
       "      <td>06556</td>\n",
       "      <td>2007-01-15</td>\n",
       "      <td>None</td>\n",
       "    </tr>\n",
       "    <tr>\n",
       "      <th>1</th>\n",
       "      <td>123457</td>\n",
       "      <td>AMYA KINNEY</td>\n",
       "      <td>1981-03-16</td>\n",
       "      <td>PINE STREET</td>\n",
       "      <td>Cambridge</td>\n",
       "      <td>MA</td>\n",
       "      <td>02214</td>\n",
       "      <td>2009-09-04</td>\n",
       "      <td>None</td>\n",
       "    </tr>\n",
       "    <tr>\n",
       "      <th>2</th>\n",
       "      <td>123458</td>\n",
       "      <td>CATLYN PETERS</td>\n",
       "      <td>1991-10-13</td>\n",
       "      <td>742 ORNAGO AVENUE</td>\n",
       "      <td>LEXINTON</td>\n",
       "      <td>MA</td>\n",
       "      <td>02223</td>\n",
       "      <td>2011-07-02</td>\n",
       "      <td>None</td>\n",
       "    </tr>\n",
       "    <tr>\n",
       "      <th>3</th>\n",
       "      <td>123459</td>\n",
       "      <td>MORIAH NASH</td>\n",
       "      <td>1992-08-25</td>\n",
       "      <td>SIMMONS STREET</td>\n",
       "      <td>WARREN</td>\n",
       "      <td>MICHIGAN</td>\n",
       "      <td>48033</td>\n",
       "      <td>2015-02-05</td>\n",
       "      <td>None</td>\n",
       "    </tr>\n",
       "    <tr>\n",
       "      <th>4</th>\n",
       "      <td>123460</td>\n",
       "      <td>PATRICK HANSEN</td>\n",
       "      <td>1985-09-25</td>\n",
       "      <td>485 PEASANT STREET</td>\n",
       "      <td>COLORADO SPRINGS</td>\n",
       "      <td>SPRINGS</td>\n",
       "      <td>80772</td>\n",
       "      <td>2010-08-05</td>\n",
       "      <td>None</td>\n",
       "    </tr>\n",
       "    <tr>\n",
       "      <th>5</th>\n",
       "      <td>123461</td>\n",
       "      <td>SHANK BARTON</td>\n",
       "      <td>1982-05-14</td>\n",
       "      <td>614 SHAWMUT AVENUE</td>\n",
       "      <td>BOSTON</td>\n",
       "      <td>MA</td>\n",
       "      <td>02118</td>\n",
       "      <td>1998-02-14</td>\n",
       "      <td>2016-05-03</td>\n",
       "    </tr>\n",
       "    <tr>\n",
       "      <th>6</th>\n",
       "      <td>123462</td>\n",
       "      <td>EMILY BRONK</td>\n",
       "      <td>1988-07-12</td>\n",
       "      <td>1712 LOST RIVER RD.</td>\n",
       "      <td>NORTH WOODSTOCK</td>\n",
       "      <td>NH</td>\n",
       "      <td>03262</td>\n",
       "      <td>2016-04-21</td>\n",
       "      <td>2019-03-31</td>\n",
       "    </tr>\n",
       "    <tr>\n",
       "      <th>7</th>\n",
       "      <td>123463</td>\n",
       "      <td>ANDY DUFFERHEN</td>\n",
       "      <td>1976-03-31</td>\n",
       "      <td>13 SAMUEL J ROAD</td>\n",
       "      <td>ALBUQUERQUE</td>\n",
       "      <td>NEW MEXICO</td>\n",
       "      <td>87105</td>\n",
       "      <td>1995-01-11</td>\n",
       "      <td>2013-03-16</td>\n",
       "    </tr>\n",
       "    <tr>\n",
       "      <th>8</th>\n",
       "      <td>123464</td>\n",
       "      <td>TIMMY CUFFMAN</td>\n",
       "      <td>1999-06-23</td>\n",
       "      <td>851 HARRISON AVENUE</td>\n",
       "      <td>BOSTON</td>\n",
       "      <td>MA</td>\n",
       "      <td>02118</td>\n",
       "      <td>2017-12-14</td>\n",
       "      <td>None</td>\n",
       "    </tr>\n",
       "    <tr>\n",
       "      <th>9</th>\n",
       "      <td>123465</td>\n",
       "      <td>KATHY BLEAK</td>\n",
       "      <td>1992-02-27</td>\n",
       "      <td>801 E WAYNE AVENUE</td>\n",
       "      <td>WOOSTER</td>\n",
       "      <td>OHIO</td>\n",
       "      <td>44691</td>\n",
       "      <td>2012-04-30</td>\n",
       "      <td>None</td>\n",
       "    </tr>\n",
       "  </tbody>\n",
       "</table>\n",
       "</div>"
      ],
      "text/plain": [
       "   EMP_ID         EMP_NAME     EMP_DOB           EMP_STREET          EMP_CITY  \\\n",
       "0  123456  MADELEINE REYES  1979-04-01  9020 BESSIE COLEMAN         NEW HAVEN   \n",
       "1  123457      AMYA KINNEY  1981-03-16          PINE STREET         Cambridge   \n",
       "2  123458    CATLYN PETERS  1991-10-13    742 ORNAGO AVENUE          LEXINTON   \n",
       "3  123459      MORIAH NASH  1992-08-25       SIMMONS STREET            WARREN   \n",
       "4  123460   PATRICK HANSEN  1985-09-25   485 PEASANT STREET  COLORADO SPRINGS   \n",
       "5  123461     SHANK BARTON  1982-05-14   614 SHAWMUT AVENUE            BOSTON   \n",
       "6  123462      EMILY BRONK  1988-07-12  1712 LOST RIVER RD.   NORTH WOODSTOCK   \n",
       "7  123463   ANDY DUFFERHEN  1976-03-31     13 SAMUEL J ROAD       ALBUQUERQUE   \n",
       "8  123464    TIMMY CUFFMAN  1999-06-23  851 HARRISON AVENUE            BOSTON   \n",
       "9  123465      KATHY BLEAK  1992-02-27   801 E WAYNE AVENUE           WOOSTER   \n",
       "\n",
       "     EMP_STATE EMP_ZIP EMP_HIREDATE EMP_ENDDATE  \n",
       "0  CONNECTICUT   06556   2007-01-15        None  \n",
       "1           MA   02214   2009-09-04        None  \n",
       "2           MA   02223   2011-07-02        None  \n",
       "3     MICHIGAN   48033   2015-02-05        None  \n",
       "4      SPRINGS   80772   2010-08-05        None  \n",
       "5           MA   02118   1998-02-14  2016-05-03  \n",
       "6           NH   03262   2016-04-21  2019-03-31  \n",
       "7   NEW MEXICO   87105   1995-01-11  2013-03-16  \n",
       "8           MA   02118   2017-12-14        None  \n",
       "9         OHIO   44691   2012-04-30        None  "
      ]
     },
     "execution_count": 53,
     "metadata": {},
     "output_type": "execute_result"
    }
   ],
   "source": [
    "data"
   ]
  },
  {
   "cell_type": "code",
   "execution_count": null,
   "id": "389646e8",
   "metadata": {},
   "outputs": [],
   "source": []
  }
 ],
 "metadata": {
  "kernelspec": {
   "display_name": "Python 3 (ipykernel)",
   "language": "python",
   "name": "python3"
  },
  "language_info": {
   "codemirror_mode": {
    "name": "ipython",
    "version": 3
   },
   "file_extension": ".py",
   "mimetype": "text/x-python",
   "name": "python",
   "nbconvert_exporter": "python",
   "pygments_lexer": "ipython3",
   "version": "3.9.7"
  }
 },
 "nbformat": 4,
 "nbformat_minor": 5
}
